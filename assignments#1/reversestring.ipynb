{
 "cells": [
  {
   "cell_type": "code",
   "execution_count": 1,
   "id": "429cb4d0",
   "metadata": {},
   "outputs": [
    {
     "name": "stdout",
     "output_type": "stream",
     "text": [
      "Your first name is:syeda\n",
      "Your last name is:raza\n",
      "Reversed string\n",
      "azar adeys\n"
     ]
    }
   ],
   "source": [
    "#print reversed name\n",
    "\n",
    "\n",
    "firstname=input(\"Your first name is:\")\n",
    "\n",
    "lastname=input(\"Your last name is:\")\n",
    "\n",
    "\n",
    "name = (firstname + \" \" + lastname)[::-1]\n",
    "\n",
    "print(\"Reversed string\")\n",
    "print(name)\n"
   ]
  },
  {
   "cell_type": "code",
   "execution_count": null,
   "id": "5b73a8ef",
   "metadata": {},
   "outputs": [],
   "source": []
  }
 ],
 "metadata": {
  "kernelspec": {
   "display_name": "Python 3 (ipykernel)",
   "language": "python",
   "name": "python3"
  },
  "language_info": {
   "codemirror_mode": {
    "name": "ipython",
    "version": 3
   },
   "file_extension": ".py",
   "mimetype": "text/x-python",
   "name": "python",
   "nbconvert_exporter": "python",
   "pygments_lexer": "ipython3",
   "version": "3.9.7"
  }
 },
 "nbformat": 4,
 "nbformat_minor": 5
}
