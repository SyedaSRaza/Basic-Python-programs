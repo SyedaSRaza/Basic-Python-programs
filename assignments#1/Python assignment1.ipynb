{
 "cells": [
  {
   "cell_type": "code",
   "execution_count": 1,
   "id": "044f8b09",
   "metadata": {},
   "outputs": [
    {
     "name": "stdout",
     "output_type": "stream",
     "text": [
      "Twinkle,twinkle,little star,\n",
      " \t How I wonder what you are! \n",
      " \t\t Up above the world so high \n",
      " \t\t Like a diamond the sky\n",
      "Twinkle,twinkle,little star, \n",
      " \t How I wonder what you are!\n"
     ]
    }
   ],
   "source": [
    "print(\"Twinkle,twinkle,little star,\\n \\t How I wonder what you are! \\n \\t\\t Up above the world so high \\n \\t\\t Like a diamond the sky\\nTwinkle,twinkle,little star, \\n \\t How I wonder what you are!\")\n"
   ]
  },
  {
   "cell_type": "code",
   "execution_count": 3,
   "id": "9990fed1",
   "metadata": {},
   "outputs": [
    {
     "name": "stdout",
     "output_type": "stream",
     "text": [
      "Using this python Python version:\n",
      "3.9.7 (default, Sep 16 2021, 16:59:28) [MSC v.1916 64 bit (AMD64)]\n"
     ]
    }
   ],
   "source": [
    "#Python version program\n",
    "\n",
    "import sys\n",
    "print(\"Using this python Python version:\")\n",
    "print (sys.version)\n"
   ]
  },
  {
   "cell_type": "code",
   "execution_count": 4,
   "id": "473e0b8c",
   "metadata": {},
   "outputs": [
    {
     "name": "stdout",
     "output_type": "stream",
     "text": [
      "The date and time today is:\n",
      "2022-01-01 17:49:18.152422\n"
     ]
    }
   ],
   "source": [
    "#Today's date and time\n",
    "\n",
    "import datetime\n",
    "\n",
    "print(\"The date and time today is:\")\n",
    "\n",
    "x = datetime.datetime.now()\n",
    "print(x)\n"
   ]
  },
  {
   "cell_type": "code",
   "execution_count": 5,
   "id": "9f7d113a",
   "metadata": {},
   "outputs": [
    {
     "name": "stdout",
     "output_type": "stream",
     "text": [
      "Enter radius 4\n",
      "The area of cicle is 12.566371\n"
     ]
    }
   ],
   "source": [
    "#find area of a circle\n",
    "import math\n",
    "\n",
    "r= float(input(\"Enter radius \"))\n",
    "\n",
    "a= (math.pi) * r\n",
    "\n",
    "print(\"The area of cicle is %f\" %a)\n"
   ]
  },
  {
   "cell_type": "code",
   "execution_count": 7,
   "id": "1db206b3",
   "metadata": {},
   "outputs": [
    {
     "name": "stdout",
     "output_type": "stream",
     "text": [
      "Your first name is:Syeda\n",
      "Your last name is:Raza\n",
      "Reversed string\n",
      "azaR adeyS\n"
     ]
    }
   ],
   "source": [
    "#print reversed name\n",
    "\n",
    "\n",
    "firstname=input(\"Your first name is:\")\n",
    "\n",
    "lastname=input(\"Your last name is:\")\n",
    "\n",
    "\n",
    "name = (firstname + \" \" + lastname)[::-1]\n",
    "\n",
    "print(\"Reversed string\")\n",
    "print(name)\n"
   ]
  },
  {
   "cell_type": "code",
   "execution_count": 6,
   "id": "b58bd250",
   "metadata": {},
   "outputs": [
    {
     "name": "stdout",
     "output_type": "stream",
     "text": [
      "Enter 1st number 3\n",
      "Enter 2nd num 4\n",
      "Your result is: 7\n"
     ]
    }
   ],
   "source": [
    "#addition\n",
    "\n",
    "a=int(input(\"Enter 1st number \"))\n",
    "\n",
    "b=int(input(\"Enter 2nd num \"))\n",
    "\n",
    "sum= a+b\n",
    "\n",
    "print(\"Your result is: %d\"  %sum)\n"
   ]
  },
  {
   "cell_type": "code",
   "execution_count": null,
   "id": "5bad0745",
   "metadata": {},
   "outputs": [],
   "source": []
  }
 ],
 "metadata": {
  "kernelspec": {
   "display_name": "Python 3 (ipykernel)",
   "language": "python",
   "name": "python3"
  },
  "language_info": {
   "codemirror_mode": {
    "name": "ipython",
    "version": 3
   },
   "file_extension": ".py",
   "mimetype": "text/x-python",
   "name": "python",
   "nbconvert_exporter": "python",
   "pygments_lexer": "ipython3",
   "version": "3.9.7"
  }
 },
 "nbformat": 4,
 "nbformat_minor": 5
}
