{
 "cells": [
  {
   "cell_type": "code",
   "execution_count": 1,
   "id": "2fd15d2f",
   "metadata": {},
   "outputs": [
    {
     "name": "stdout",
     "output_type": "stream",
     "text": [
      "Enter radius 3\n",
      "The area of cicle is 9.424778\n"
     ]
    }
   ],
   "source": [
    "#find area of a circle\n",
    "import math\n",
    "\n",
    "r= float(input(\"Enter radius \"))\n",
    "\n",
    "a= (math.pi) * r\n",
    "\n",
    "print(\"The area of cicle is %f\" %a)\n"
   ]
  },
  {
   "cell_type": "code",
   "execution_count": null,
   "id": "9e4e44ec",
   "metadata": {},
   "outputs": [],
   "source": []
  }
 ],
 "metadata": {
  "kernelspec": {
   "display_name": "Python 3 (ipykernel)",
   "language": "python",
   "name": "python3"
  },
  "language_info": {
   "codemirror_mode": {
    "name": "ipython",
    "version": 3
   },
   "file_extension": ".py",
   "mimetype": "text/x-python",
   "name": "python",
   "nbconvert_exporter": "python",
   "pygments_lexer": "ipython3",
   "version": "3.9.7"
  }
 },
 "nbformat": 4,
 "nbformat_minor": 5
}
