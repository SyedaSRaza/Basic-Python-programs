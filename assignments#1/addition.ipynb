{
 "cells": [
  {
   "cell_type": "code",
   "execution_count": 1,
   "id": "fe60b53c",
   "metadata": {},
   "outputs": [
    {
     "name": "stdout",
     "output_type": "stream",
     "text": [
      "Enter 1st number 3\n",
      "Enter 2nd num 4\n",
      "Your result is: 7\n"
     ]
    }
   ],
   "source": [
    "#addition\n",
    "\n",
    "a=int(input(\"Enter 1st number \"))\n",
    "\n",
    "b=int(input(\"Enter 2nd num \"))\n",
    "\n",
    "sum= a+b\n",
    "\n",
    "print(\"Your result is: %d\"  %sum)\n"
   ]
  },
  {
   "cell_type": "code",
   "execution_count": null,
   "id": "1308935d",
   "metadata": {},
   "outputs": [],
   "source": []
  }
 ],
 "metadata": {
  "kernelspec": {
   "display_name": "Python 3 (ipykernel)",
   "language": "python",
   "name": "python3"
  },
  "language_info": {
   "codemirror_mode": {
    "name": "ipython",
    "version": 3
   },
   "file_extension": ".py",
   "mimetype": "text/x-python",
   "name": "python",
   "nbconvert_exporter": "python",
   "pygments_lexer": "ipython3",
   "version": "3.9.7"
  }
 },
 "nbformat": 4,
 "nbformat_minor": 5
}
